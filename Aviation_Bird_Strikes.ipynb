{
 "cells": [
  {
   "cell_type": "code",
   "execution_count": 1,
   "id": "2c593ccf",
   "metadata": {},
   "outputs": [],
   "source": [
    "#command to import pandas\n",
    "import pandas as pd"
   ]
  },
  {
   "cell_type": "code",
   "execution_count": null,
   "id": "599ea32d",
   "metadata": {},
   "outputs": [
    {
     "name": "stdout",
     "output_type": "stream",
     "text": [
      "<class 'pandas.core.frame.DataFrame'>\n",
      "RangeIndex: 25429 entries, 0 to 25428\n",
      "Data columns (total 26 columns):\n",
      " #   Column                    Non-Null Count  Dtype \n",
      "---  ------                    --------------  ----- \n",
      " 0   RecordID                  25429 non-null  int64 \n",
      " 1   AircraftType              25429 non-null  object\n",
      " 2   AirportName               25429 non-null  object\n",
      " 3   AltitudeBin               25429 non-null  object\n",
      " 4   MakeModel                 25429 non-null  object\n",
      " 5   NumberStruck              25429 non-null  object\n",
      " 6   NumberStruckActual        25429 non-null  int64 \n",
      " 7   Effect                    2078 non-null   object\n",
      " 8   FlightDate                25429 non-null  object\n",
      " 9   Damage                    25429 non-null  object\n",
      " 10  Engines                   25195 non-null  object\n",
      " 11  Operator                  25429 non-null  object\n",
      " 12  OriginState               24980 non-null  object\n",
      " 13  FlightPhase               25429 non-null  object\n",
      " 14  ConditionsPrecipitation   2015 non-null   object\n",
      " 15  RemainsCollected?         25429 non-null  bool  \n",
      " 16  RemainsSentToSmithsonian  25429 non-null  bool  \n",
      " 17  Remarks                   20668 non-null  object\n",
      " 18  WildlifeSize              25429 non-null  object\n",
      " 19  ConditionsSky             25429 non-null  object\n",
      " 20  WildlifeSpecies           25429 non-null  object\n",
      " 21  PilotWarned               25429 non-null  object\n",
      " 22  Cost                      25429 non-null  object\n",
      " 23  Altitude                  25429 non-null  int64 \n",
      " 24  PeopleInjured             25429 non-null  int64 \n",
      " 25  IsAircraftLarge?          25429 non-null  object\n",
      "dtypes: bool(2), int64(4), object(20)\n",
      "memory usage: 4.7+ MB\n"
     ]
    }
   ],
   "source": [
    "#file location of bird strike data\n",
    "df = pd.read_csv(r'C:\\Users\\Kiyojute\\Desktop\\Bird_Strikes\\Bird_strikes.csv')\n",
    "df.info(max_cols=100) #command to display basic info on dataframe"
   ]
  }
 ],
 "metadata": {
  "kernelspec": {
   "display_name": "Python 3",
   "language": "python",
   "name": "python3"
  },
  "language_info": {
   "codemirror_mode": {
    "name": "ipython",
    "version": 3
   },
   "file_extension": ".py",
   "mimetype": "text/x-python",
   "name": "python",
   "nbconvert_exporter": "python",
   "pygments_lexer": "ipython3",
   "version": "3.13.1"
  }
 },
 "nbformat": 4,
 "nbformat_minor": 5
}
